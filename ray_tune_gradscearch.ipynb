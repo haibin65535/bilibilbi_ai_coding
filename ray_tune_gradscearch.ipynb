{
 "cells": [
  {
   "cell_type": "markdown",
   "metadata": {},
   "source": [
    "### 众所周知  网格搜索是一种提升模型性能的重要手段\n",
    "### 事实上 除了网格搜索以外 还有众多的超参数搜索算法 且都具有良好的性能\n",
    "### 本节内容 主要描述如何构造一个这样的搜索算法 或是网格搜索 或是遗传算法 或是强化学习算法\n",
    "### 本节主要内容 将围绕谷歌公司的ray框架展开"
   ]
  },
  {
   "cell_type": "markdown",
   "metadata": {},
   "source": [
    "###   环境准备\n",
    "ray 框架官方网址 ''https://docs.ray.io/en/latest/tune/index.html''\n",
    "\n",
    "请按照官方教程安装"
   ]
  },
  {
   "cell_type": "code",
   "execution_count": null,
   "metadata": {
    "vscode": {
     "languageId": "plaintext"
    }
   },
   "outputs": [],
   "source": []
  }
 ],
 "metadata": {
  "language_info": {
   "name": "python"
  },
  "orig_nbformat": 4
 },
 "nbformat": 4,
 "nbformat_minor": 2
}
